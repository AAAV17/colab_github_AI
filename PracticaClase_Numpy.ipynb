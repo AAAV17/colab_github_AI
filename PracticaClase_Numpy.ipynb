{
  "nbformat": 4,
  "nbformat_minor": 0,
  "metadata": {
    "colab": {
      "provenance": [],
      "authorship_tag": "ABX9TyPQFZTAwwgu5ts4epZlNvFT",
      "include_colab_link": true
    },
    "kernelspec": {
      "name": "python3",
      "display_name": "Python 3"
    },
    "language_info": {
      "name": "python"
    }
  },
  "cells": [
    {
      "cell_type": "markdown",
      "metadata": {
        "id": "view-in-github",
        "colab_type": "text"
      },
      "source": [
        "<a href=\"https://colab.research.google.com/github/AAAV17/colab_github_AI/blob/main/PracticaClase_Numpy.ipynb\" target=\"_parent\"><img src=\"https://colab.research.google.com/assets/colab-badge.svg\" alt=\"Open In Colab\"/></a>"
      ]
    },
    {
      "cell_type": "code",
      "execution_count": 1,
      "metadata": {
        "colab": {
          "base_uri": "https://localhost:8080/"
        },
        "id": "lWY-spWP3oWJ",
        "outputId": "fe4a5215-9ff4-46d6-d560-7b6f6f8aac6a"
      },
      "outputs": [
        {
          "output_type": "stream",
          "name": "stdout",
          "text": [
            "[1 2 4]\n",
            "-----------\n",
            "(3,)\n",
            "(2, 3)\n",
            "[[1 2 4]\n",
            " [1 2 4]]\n",
            "-----------\n",
            "<class 'numpy.ndarray'>\n",
            "-----------\n",
            "[[0. 0. 0. 0.]\n",
            " [0. 0. 0. 0.]\n",
            " [0. 0. 0. 0.]\n",
            " [0. 0. 0. 0.]]\n",
            "-----------\n",
            "[[5 5 5 5]\n",
            " [5 5 5 5]\n",
            " [5 5 5 5]\n",
            " [5 5 5 5]]\n",
            "-----------\n",
            "[[1. 0. 0. 0.]\n",
            " [0. 1. 0. 0.]\n",
            " [0. 0. 1. 0.]\n",
            " [0. 0. 0. 1.]]\n",
            "-----------\n",
            "[[1. 1. 1. 1.]\n",
            " [1. 1. 1. 1.]\n",
            " [1. 1. 1. 1.]\n",
            " [1. 1. 1. 1.]]\n",
            "(4, 4)\n"
          ]
        }
      ],
      "source": [
        "import numpy as np\n",
        "\n",
        "aux=np.array([1,2,4])\n",
        "print(aux)\n",
        "print('-----------')\n",
        "# Shape no ayuda a sabes las dimención o froma de la matriz\n",
        "print(aux.shape)\n",
        "\n",
        "aux=np.array([[1,2,4],[1,2,4]])\n",
        "print(aux.shape)\n",
        "print(aux)\n",
        "print('-----------')\n",
        "print(type(aux))\n",
        "\n",
        "# los crea matrices con únicamente 0\n",
        "x=np.zeros((4,4))\n",
        "print('-----------')\n",
        "print(x)\n",
        "\n",
        "#full crea matrices con un valor constante en este caso 5\n",
        "x=np.full((4,4),5)\n",
        "print('-----------')\n",
        "print(x)\n",
        "\n",
        "# eyer crea una matriz de identificación ya que completa la matriz con 0 y en la parte principal lo completa con 1\n",
        "x=np.eye(4,4)\n",
        "print('-----------')\n",
        "print(x)\n",
        "\n",
        "# Ones se utiliza para crear un array (o matriz) de una forma específica, llena de unos\n",
        "x=np.ones((4,4))\n",
        "print('-----------')\n",
        "print(x)\n",
        "\n",
        "print(x.shape)"
      ]
    },
    {
      "cell_type": "code",
      "source": [
        "# ramdom.random se utiliza para generar un número decimal aleatorio en el rango que es esta caso es de (3,3)\n",
        "x=10*np.random.random((3,3))\n",
        "print(x)"
      ],
      "metadata": {
        "colab": {
          "base_uri": "https://localhost:8080/"
        },
        "id": "PtLIPyeg4R5k",
        "outputId": "3e45d1e0-4276-4a5c-ead0-1d7339d4e177"
      },
      "execution_count": 2,
      "outputs": [
        {
          "output_type": "stream",
          "name": "stdout",
          "text": [
            "[[4.35507119 7.75857132 3.56377761]\n",
            " [6.19620423 1.01433324 7.21851446]\n",
            " [5.29927571 2.81949957 2.75396994]]\n"
          ]
        }
      ]
    },
    {
      "cell_type": "code",
      "source": [
        "# imprime un subconjutnode la matriz principal\n",
        "print(x[:2,:2])"
      ],
      "metadata": {
        "colab": {
          "base_uri": "https://localhost:8080/"
        },
        "id": "fg_b0NeL4bJs",
        "outputId": "3a4c3d32-7576-4218-985b-5770f7ee2ef9"
      },
      "execution_count": 3,
      "outputs": [
        {
          "output_type": "stream",
          "name": "stdout",
          "text": [
            "[[4.35507119 7.75857132]\n",
            " [6.19620423 1.01433324]]\n"
          ]
        }
      ]
    },
    {
      "cell_type": "code",
      "source": [
        "# imprime un subconjutnode la matriz principal\n",
        "print(x[:2,1:3])"
      ],
      "metadata": {
        "colab": {
          "base_uri": "https://localhost:8080/"
        },
        "id": "-AePZpAh4fUG",
        "outputId": "a3140dc3-5de6-4d68-ae66-dc51676cfc31"
      },
      "execution_count": 4,
      "outputs": [
        {
          "output_type": "stream",
          "name": "stdout",
          "text": [
            "[[7.75857132 3.56377761]\n",
            " [1.01433324 7.21851446]]\n"
          ]
        }
      ]
    },
    {
      "cell_type": "code",
      "source": [
        "# imprime un subconjutnode la matriz principal\n",
        "print(x[1,1])"
      ],
      "metadata": {
        "colab": {
          "base_uri": "https://localhost:8080/"
        },
        "id": "JQPWux204jMx",
        "outputId": "c26148d1-c77b-4cc5-9232-7460bd488b1c"
      },
      "execution_count": 5,
      "outputs": [
        {
          "output_type": "stream",
          "name": "stdout",
          "text": [
            "1.014333244148936\n"
          ]
        }
      ]
    },
    {
      "cell_type": "code",
      "source": [
        "# imprime un subconjutnode la matriz principal\n",
        "print(x[2,2])"
      ],
      "metadata": {
        "colab": {
          "base_uri": "https://localhost:8080/"
        },
        "id": "PDLANbIL4lrh",
        "outputId": "0d19d89b-8adc-46b1-a0f2-89ff05950d6c"
      },
      "execution_count": 6,
      "outputs": [
        {
          "output_type": "stream",
          "name": "stdout",
          "text": [
            "2.7539699369746895\n"
          ]
        }
      ]
    },
    {
      "cell_type": "code",
      "source": [
        "# ramdom.random se utiliza para generar un número decimal aleatorio en el rango que es esta caso es de (3,3)\n",
        "x=10*np.random.random((3,3))\n",
        "print(x)"
      ],
      "metadata": {
        "colab": {
          "base_uri": "https://localhost:8080/"
        },
        "id": "W5oWVScG4pX0",
        "outputId": "08715e02-e567-4952-e2cb-7d9d0bcdea5a"
      },
      "execution_count": 7,
      "outputs": [
        {
          "output_type": "stream",
          "name": "stdout",
          "text": [
            "[[7.07980112 2.13898105 3.40084152]\n",
            " [2.13061802 5.07404988 7.06874012]\n",
            " [6.24592116 7.49491677 1.95143139]]\n"
          ]
        }
      ]
    },
    {
      "cell_type": "code",
      "source": [
        "# mask se puede utilizar con arrays o matrices para realizar operaciones condicionales.\n",
        "mask=x>5\n",
        "print(x[mask])"
      ],
      "metadata": {
        "colab": {
          "base_uri": "https://localhost:8080/"
        },
        "id": "k_FYIjm74rVj",
        "outputId": "48cd4daf-08c5-4370-f990-647dd94c1a7a"
      },
      "execution_count": 8,
      "outputs": [
        {
          "output_type": "stream",
          "name": "stdout",
          "text": [
            "[7.07980112 5.07404988 7.06874012 6.24592116 7.49491677]\n"
          ]
        }
      ]
    },
    {
      "cell_type": "code",
      "source": [
        "#filter es una función incorporada que se utiliza para filtrar elementos de una secuencia entre un rango\n",
        "filter=(x>=2)&(x<=4)\n",
        "print(x[filter])"
      ],
      "metadata": {
        "colab": {
          "base_uri": "https://localhost:8080/"
        },
        "id": "pGgKieO34wl0",
        "outputId": "19fa338a-ab4e-4181-f311-77332c0a07df"
      },
      "execution_count": 9,
      "outputs": [
        {
          "output_type": "stream",
          "name": "stdout",
          "text": [
            "[2.13898105 3.40084152 2.13061802]\n"
          ]
        }
      ]
    },
    {
      "cell_type": "code",
      "source": [
        "#filter es una función incorporada que se utiliza para filtrar elementos de una secuencia entre un rango\n",
        "filter=(x>=2)&(x<=4)\n",
        "print(x[filter])"
      ],
      "metadata": {
        "colab": {
          "base_uri": "https://localhost:8080/"
        },
        "id": "V_Om9hZ646bL",
        "outputId": "4c15db07-7be4-4b3c-ee1d-0f1b7ce4b344"
      },
      "execution_count": 10,
      "outputs": [
        {
          "output_type": "stream",
          "name": "stdout",
          "text": [
            "[2.13898105 3.40084152 2.13061802]\n"
          ]
        }
      ]
    },
    {
      "cell_type": "markdown",
      "source": [
        "NUMPY_CLASE2"
      ],
      "metadata": {
        "id": "WpXwbNCx5Dtb"
      }
    },
    {
      "cell_type": "code",
      "source": [],
      "metadata": {
        "id": "j6EmJ2Nx5J8z"
      },
      "execution_count": null,
      "outputs": []
    },
    {
      "cell_type": "code",
      "execution_count": 11,
      "metadata": {
        "colab": {
          "base_uri": "https://localhost:8080/"
        },
        "id": "0LlWNw_Z6GIu",
        "outputId": "8935abd0-d5b4-488a-ab4d-05e81874c839"
      },
      "outputs": [
        {
          "output_type": "stream",
          "name": "stdout",
          "text": [
            "MATRIZ A\n",
            "[[5 7 1 0]\n",
            " [0 0 9 3]\n",
            " [3 5 1 3]]\n",
            "MATRIZ B\n",
            "[[7 7 2 0]\n",
            " [8 2 5 6]\n",
            " [6 7 0 9]]\n",
            "SUMANDO\n",
            "[[12 14  3  0]\n",
            " [ 8  2 14  9]\n",
            " [ 9 12  1 12]]\n",
            "RESTANDO\n",
            "[[-2  0 -1  0]\n",
            " [-8 -2  4 -3]\n",
            " [-3 -2  1 -6]]\n",
            "MULTIPLICANDO\n",
            "[[35 49  2  0]\n",
            " [ 0  0 45 18]\n",
            " [18 35  0 27]]\n",
            "___________\n",
            "[[12 14  3  0]\n",
            " [ 8  2 14  9]\n",
            " [ 9 12  1 12]]\n",
            "___________\n",
            "[[35 49  2  0]\n",
            " [ 0  0 45 18]\n",
            " [18 35  0 27]]\n",
            "___________\n",
            "[[0.71428571 1.         0.5               nan]\n",
            " [0.         0.         1.8        0.5       ]\n",
            " [0.5        0.71428571        inf 0.33333333]]\n",
            "___________\n"
          ]
        },
        {
          "output_type": "stream",
          "name": "stderr",
          "text": [
            "<ipython-input-11-0fa90ec160a8>:31: RuntimeWarning: divide by zero encountered in divide\n",
            "  print(np.divide(a,b))\n",
            "<ipython-input-11-0fa90ec160a8>:31: RuntimeWarning: invalid value encountered in divide\n",
            "  print(np.divide(a,b))\n"
          ]
        }
      ],
      "source": [
        "\n",
        "# ramdom.randint se utiliza para generar un número enteros aleatorio en el rango que es esta caso es de (0,10)\n",
        "a=np.random.randint(0,10,(3,4))\n",
        "\n",
        "b=np.random.randint(0,10,(3,4))\n",
        "print(\"MATRIZ A\")\n",
        "# se imprime la matriz A\n",
        "print(a)\n",
        "print(\"MATRIZ B\")\n",
        "# se imprime la matriz b\n",
        "print(b)\n",
        "print(\"SUMANDO\")\n",
        "# se imprime una matriz sumando la matriz a+b\n",
        "print(a+b)\n",
        "print(\"RESTANDO\")\n",
        "# se imprime una matriz restando la matriz a-b\n",
        "print(a-b)\n",
        "print(\"MULTIPLICANDO\")\n",
        "# se imprime una matriz multiplicando la matriz a*b\n",
        "print(a*b)\n",
        "print(\"___________\")\n",
        "\n",
        "# add se utiliza para realizar la suma de dos arrays o matrices de elemento por elemento.\n",
        "print(np.add(a,b))\n",
        "print(\"___________\")\n",
        "\n",
        "# multiply se utiliza para realizar la multiplicaciones de dos arrays o matrices de elemento por elemento.\n",
        "print(np.multiply(a,b))\n",
        "print(\"___________\")\n",
        "\n",
        "# divide se utiliza para realizar la divisiones de dos arrays o matrices de elemento por elemento.\n",
        "print(np.divide(a,b))\n",
        "print(\"___________\")\n"
      ]
    },
    {
      "cell_type": "code",
      "source": [
        "# ramdom.randint se utiliza para generar un número enteros aleatorio en el rango que es esta caso es de (0,10)\n",
        "a=np.random.randint(0,10,(2,3))\n",
        "\n",
        "b=np.random.randint(0,10,(3,4))\n",
        "print(\"MATRIZ A\")\n",
        "print(a)\n",
        "print(\"MATRIZ B\")\n",
        "print(b)\n",
        "print(\"___________\")\n",
        "\n",
        "# dot son multiplica las matrices\n",
        "print(np.dot(a,b))"
      ],
      "metadata": {
        "colab": {
          "base_uri": "https://localhost:8080/"
        },
        "id": "V61qcFir5qrQ",
        "outputId": "13f8f93c-ccf1-42b3-ba99-751665f24843"
      },
      "execution_count": 12,
      "outputs": [
        {
          "output_type": "stream",
          "name": "stdout",
          "text": [
            "MATRIZ A\n",
            "[[9 7 9]\n",
            " [7 0 9]]\n",
            "MATRIZ B\n",
            "[[2 7 9 8]\n",
            " [0 3 8 5]\n",
            " [0 4 4 7]]\n",
            "___________\n",
            "[[ 18 120 173 170]\n",
            " [ 14  85  99 119]]\n"
          ]
        }
      ]
    },
    {
      "cell_type": "code",
      "source": [
        "a=np.random.randint(0,10,(3,3))\n",
        "print(a)\n",
        "print(\"___________\")\n",
        "# a.T intercambia las filas por columnas\n",
        "print(a.T)"
      ],
      "metadata": {
        "colab": {
          "base_uri": "https://localhost:8080/"
        },
        "id": "6KRF8QWq5ywO",
        "outputId": "5cc18454-724a-42f0-abea-c4c7fba1803b"
      },
      "execution_count": 13,
      "outputs": [
        {
          "output_type": "stream",
          "name": "stdout",
          "text": [
            "[[5 4 4]\n",
            " [8 3 1]\n",
            " [6 8 1]]\n",
            "___________\n",
            "[[5 8 6]\n",
            " [4 3 8]\n",
            " [4 1 1]]\n"
          ]
        }
      ]
    },
    {
      "cell_type": "code",
      "source": [
        "a=np.random.randint(0,10,(4,3))\n",
        "print(a)\n",
        "print(\"___________\")\n",
        "\n",
        "b=np.array([1,0,2])\n",
        "print(b)\n",
        "print(\"___________\")\n",
        "\n",
        "# se crea una nueva matriz  utilizando la matriz A y B\n",
        "c=np.empty_like(a)\n",
        "print(c)\n",
        "print(\"___________\")\n",
        "x=a+b\n",
        "\n",
        "print(np.empty_like(x))"
      ],
      "metadata": {
        "colab": {
          "base_uri": "https://localhost:8080/"
        },
        "id": "Yx1vLsxk52wY",
        "outputId": "73954348-f6fa-4198-fc19-26b295334a23"
      },
      "execution_count": 14,
      "outputs": [
        {
          "output_type": "stream",
          "name": "stdout",
          "text": [
            "[[1 8 3]\n",
            " [2 9 5]\n",
            " [5 6 6]\n",
            " [1 8 6]]\n",
            "___________\n",
            "[1 0 2]\n",
            "___________\n",
            "[[5 7 1]\n",
            " [0 0 0]\n",
            " [9 3 3]\n",
            " [5 1 3]]\n",
            "___________\n",
            "[[94832335118607              0              2]\n",
            " [             1              0              2]\n",
            " [             1              0              2]\n",
            " [             1              0              2]]\n"
          ]
        }
      ]
    },
    {
      "cell_type": "code",
      "source": [
        "# FOR se utiliza para realizar un blucle y tiene un rango\n",
        "for i in range(4):\n",
        "  c[i,:]=a[i,:]+b\n",
        "\n",
        "print(a)\n",
        "print(\"___________\")\n",
        "\n",
        "\n",
        "print(b)\n",
        "print(\"___________\")\n",
        "\n",
        "\n",
        "print(c)\n",
        "print(\"___________\")"
      ],
      "metadata": {
        "colab": {
          "base_uri": "https://localhost:8080/"
        },
        "id": "4nhO3XLU58Ds",
        "outputId": "a1041d20-c1f1-448a-fdcc-fe7037e6962e"
      },
      "execution_count": 15,
      "outputs": [
        {
          "output_type": "stream",
          "name": "stdout",
          "text": [
            "[[1 8 3]\n",
            " [2 9 5]\n",
            " [5 6 6]\n",
            " [1 8 6]]\n",
            "___________\n",
            "[1 0 2]\n",
            "___________\n",
            "[[2 8 5]\n",
            " [3 9 7]\n",
            " [6 6 8]\n",
            " [2 8 8]]\n",
            "___________\n"
          ]
        }
      ]
    },
    {
      "cell_type": "code",
      "source": [
        "b=np.array([1,2,3])\n",
        "print(b)\n",
        "print(\"___________\")\n",
        "\n",
        "# tile se utiliza para replicar la matrices en esta caso se replica la matriz B pero con un rango de 6 veces\n",
        "x=np.tile(b,(6,1))\n",
        "print(x)"
      ],
      "metadata": {
        "colab": {
          "base_uri": "https://localhost:8080/"
        },
        "id": "2aHcJL8r6AdT",
        "outputId": "451b3834-2718-4af5-c268-d1bcba786b1e"
      },
      "execution_count": 16,
      "outputs": [
        {
          "output_type": "stream",
          "name": "stdout",
          "text": [
            "[1 2 3]\n",
            "___________\n",
            "[[1 2 3]\n",
            " [1 2 3]\n",
            " [1 2 3]\n",
            " [1 2 3]\n",
            " [1 2 3]\n",
            " [1 2 3]]\n"
          ]
        }
      ]
    },
    {
      "cell_type": "code",
      "source": [
        "a=np.random.randint(20,31,(6,6))\n",
        "print(a)\n",
        "print(\"___________\")\n",
        "\n",
        "print(\"PROMEDIOS COMPLETOS\")\n",
        "# Mean se utiliza para crear el promedio de la matriz\n",
        "aux1=np.mean(a)\n",
        "print(aux1)\n",
        "\n",
        "print(\"___________\")\n",
        "print(\"PROMEDIOS POR FILAS\")\n",
        "# Mean se utiliza para crear el promedio de la matriz pero ahora por fila en este caso la fila 1\n",
        "aux2=np.mean(a,axis=1)\n",
        "print(aux2)"
      ],
      "metadata": {
        "colab": {
          "base_uri": "https://localhost:8080/"
        },
        "id": "i14BpdKL6FDT",
        "outputId": "ddef89c0-9270-444f-9a63-405e80fec25b"
      },
      "execution_count": 17,
      "outputs": [
        {
          "output_type": "stream",
          "name": "stdout",
          "text": [
            "[[30 28 23 29 30 26]\n",
            " [26 24 23 25 20 30]\n",
            " [24 30 24 27 28 29]\n",
            " [25 20 24 24 25 25]\n",
            " [27 29 21 26 28 24]\n",
            " [24 23 26 25 29 28]]\n",
            "___________\n",
            "PROMEDIOS COMPLETOS\n",
            "25.805555555555557\n",
            "___________\n",
            "PROMEDIOS POR FILAS\n",
            "[27.66666667 24.66666667 27.         23.83333333 25.83333333 25.83333333]\n"
          ]
        }
      ]
    }
  ]
}