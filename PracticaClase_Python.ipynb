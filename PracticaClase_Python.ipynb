{
  "cells": [
    {
      "cell_type": "markdown",
      "metadata": {
        "id": "view-in-github",
        "colab_type": "text"
      },
      "source": [
        "<a href=\"https://colab.research.google.com/github/AAAV17/colab_github_AI/blob/main/PracticaClase_Python.ipynb\" target=\"_parent\"><img src=\"https://colab.research.google.com/assets/colab-badge.svg\" alt=\"Open In Colab\"/></a>"
      ]
    },
    {
      "cell_type": "markdown",
      "source": [
        "\n",
        "\n",
        "```\n",
        "# conoser la versión de python\n",
        "```\n",
        "\n"
      ],
      "metadata": {
        "id": "S0uTmtVpBNpK"
      }
    },
    {
      "cell_type": "code",
      "execution_count": null,
      "metadata": {
        "colab": {
          "background_save": true,
          "base_uri": "https://localhost:8080/"
        },
        "id": "gWXdUE8XRhJm",
        "outputId": "309680fc-ba01-44fc-97d2-29faa6e30753"
      },
      "outputs": [
        {
          "name": "stdout",
          "output_type": "stream",
          "text": [
            "Python 3.10.12 (main, Jun 11 2023, 05:26:28) [GCC 11.4.0] on linux\n",
            "Type \"help\", \"copyright\", \"credits\" or \"license\" for more information.\n",
            ">>> \n",
            "KeyboardInterrupt\n",
            ">>> \n",
            "KeyboardInterrupt\n",
            ">>> "
          ]
        }
      ],
      "source": [
        "!python"
      ]
    },
    {
      "cell_type": "markdown",
      "metadata": {
        "id": "zujFJupgTPeM"
      },
      "source": [
        "VARIABLES"
      ]
    },
    {
      "cell_type": "markdown",
      "source": [
        "TIPOS DE DATOS BASICOS"
      ],
      "metadata": {
        "id": "oA5lqs7DBm4v"
      }
    },
    {
      "cell_type": "code",
      "execution_count": null,
      "metadata": {
        "id": "1wAB_cVFR62M",
        "colab": {
          "base_uri": "https://localhost:8080/"
        },
        "outputId": "4eebe477-bd5f-44eb-8bd6-e0f50a3f4728"
      },
      "outputs": [
        {
          "output_type": "stream",
          "name": "stdout",
          "text": [
            "6.2\n",
            "8.8\n",
            "1.7999999999999998\n",
            "1.8181818181818181\n"
          ]
        }
      ],
      "source": [
        "variableX = 4\n",
        "variableY = 2.2\n",
        "\n",
        "print(variableX+variableY)\n",
        "print(variableX*variableY)\n",
        "print(variableX-variableY)\n",
        "print(variableX/variableY)"
      ]
    },
    {
      "cell_type": "markdown",
      "metadata": {
        "id": "ocwP8A0ZTLFD"
      },
      "source": [
        "TIPOS BOOLEANOS"
      ]
    },
    {
      "cell_type": "code",
      "execution_count": null,
      "metadata": {
        "id": "ckr5-maGSwxk",
        "colab": {
          "base_uri": "https://localhost:8080/"
        },
        "outputId": "04bf7be6-c284-46d7-977e-a47834a38bb3"
      },
      "outputs": [
        {
          "output_type": "stream",
          "name": "stdout",
          "text": [
            "False\n",
            "True\n",
            "False\n",
            "True\n"
          ]
        }
      ],
      "source": [
        "variable1= True\n",
        "variable2=False\n",
        "\n",
        "print(variable1 and variable2)\n",
        "print(variable1 or variable2)\n",
        "print( not variable1)\n",
        "print( not variable2)\n",
        "\n"
      ]
    },
    {
      "cell_type": "markdown",
      "source": [
        "CADENA DE CARACTERES"
      ],
      "metadata": {
        "id": "w6G6G2YaEUDU"
      }
    },
    {
      "cell_type": "code",
      "execution_count": null,
      "metadata": {
        "id": "pQv6Ju-oTajT",
        "colab": {
          "base_uri": "https://localhost:8080/"
        },
        "outputId": "59fc542a-95da-40eb-9444-165c55306571"
      },
      "outputs": [
        {
          "output_type": "stream",
          "name": "stdout",
          "text": [
            "ALISSON ARTEAGA\n",
            "15\n",
            "ALISSON ARTEAGA\n",
            "alisson arteaga\n",
            "Alisson arteaga\n"
          ]
        }
      ],
      "source": [
        "name=\"ALISSON ARTEAGA\"\n",
        "print(name)\n",
        " # contar el numero de caracteres\n",
        "print(len(name))\n",
        "# colocar los caracteres con mayúsculas\n",
        "print(name.upper())\n",
        "# colocar los caracteres con minúscula\n",
        "print(name.lower())\n",
        "# colocar los caracteres en mayúscula la primera letra\n",
        "print(name.capitalize())\n"
      ]
    },
    {
      "cell_type": "markdown",
      "source": [
        "CONTENEDORES"
      ],
      "metadata": {
        "id": "EXe8gikSG49A"
      }
    },
    {
      "cell_type": "code",
      "execution_count": null,
      "metadata": {
        "id": "CMw4wtTrUp42",
        "colab": {
          "base_uri": "https://localhost:8080/"
        },
        "outputId": "7914990d-1867-4fc0-899e-c116026678ca"
      },
      "outputs": [
        {
          "output_type": "stream",
          "name": "stdout",
          "text": [
            "Rosa, Anahí, María\n",
            "['Rosa, Anahí, María']\n"
          ]
        }
      ],
      "source": [
        "names=\"Rosa, Anahí, María\"\n",
        "print(names)\n",
        "\n",
        "print(names.split(\";\"))"
      ]
    },
    {
      "cell_type": "markdown",
      "metadata": {
        "id": "I7Qbr3J_Vp4M"
      },
      "source": [
        "lista"
      ]
    },
    {
      "cell_type": "code",
      "execution_count": null,
      "metadata": {
        "id": "gq5_Qwh-VrL0",
        "colab": {
          "base_uri": "https://localhost:8080/"
        },
        "outputId": "38cd0e4b-5ac6-4ea4-d14c-2aee105d284e"
      },
      "outputs": [
        {
          "output_type": "stream",
          "name": "stdout",
          "text": [
            "['cuaderno', 'esfero', 'borrador', 'sacaputas']\n",
            "['cuaderno', 'esfero', 'borrador', 'sacaputas', 'regla']\n",
            "sacaputas\n",
            "---------\n",
            "cuaderno\n",
            "esfero\n",
            "borrador\n",
            "sacaputas\n",
            "regla\n",
            "-----------\n",
            "['cuaderno', 'esfero', 'borrador', 'regla']\n",
            "-----------\n",
            "['esfero', 'borrador', 'regla']\n"
          ]
        }
      ],
      "source": [
        "lista=list()\n",
        "lista=[\"cuaderno\", \"esfero\", \"borrador\", \"sacaputas\"]\n",
        "print(lista)\n",
        "# añadir un objeto a la lista\n",
        "lista.append(\"regla\")\n",
        "print(lista)\n",
        "# imprimir el numero 3 de la lista\n",
        "print(lista[3])\n",
        "print('---------')\n",
        "# visualizar uno a uno los objto que existen en el contenedor\n",
        "for i in lista:\n",
        "  print (i)\n",
        "#lista.pop[3]\n",
        "#print(lista)\n",
        "print('-----------')\n",
        "# eliminar el objeto de la posición 3\n",
        "del lista[3]\n",
        "print(lista)\n",
        "\n",
        "# imprimir un rango del contenedor\n",
        "print('-----------')\n",
        "print(lista[1:4])\n"
      ]
    },
    {
      "cell_type": "code",
      "execution_count": null,
      "metadata": {
        "id": "nSl9uGSnY1L0",
        "colab": {
          "base_uri": "https://localhost:8080/"
        },
        "outputId": "6739a1b2-841f-4197-afeb-415512a27198"
      },
      "outputs": [
        {
          "output_type": "stream",
          "name": "stdout",
          "text": [
            "[0, 1, 2, 3, 4]\n"
          ]
        }
      ],
      "source": [
        "milista=list(range(5))\n",
        "print(milista)"
      ]
    },
    {
      "cell_type": "markdown",
      "source": [
        "DICCIONARIOS"
      ],
      "metadata": {
        "id": "15geP0LiOuR2"
      }
    },
    {
      "cell_type": "code",
      "source": [
        "d={'name:':'juan', 'age:':30, 'city':'EL CARMEN'}\n",
        "print(d['name:'])\n",
        "print(d['city'])\n",
        "\n",
        "# agregar una caracteristicas al diccionario\n",
        "d['UNI']='ULEAM'\n",
        "print('----------')\n",
        "print(d['UNI'])\n",
        "\n",
        "# IMPRIMIR TODO DEL DICCIONARIO\n",
        "print('----------')\n",
        "for item in d:\n",
        "  print(item)"
      ],
      "metadata": {
        "colab": {
          "base_uri": "https://localhost:8080/"
        },
        "id": "hw7IQGOPOxed",
        "outputId": "28caacc7-e29d-4b6a-c168-0b7666987e9a"
      },
      "execution_count": null,
      "outputs": [
        {
          "output_type": "stream",
          "name": "stdout",
          "text": [
            "juan\n",
            "EL CARMEN\n",
            "----------\n",
            "ULEAM\n",
            "----------\n",
            "name:\n",
            "age:\n",
            "city\n",
            "UNI\n"
          ]
        }
      ]
    }
  ],
  "metadata": {
    "colab": {
      "provenance": [],
      "authorship_tag": "ABX9TyNZrdKJXqJdYKfX0cM5xuhO",
      "include_colab_link": true
    },
    "kernelspec": {
      "display_name": "Python 3",
      "name": "python3"
    },
    "language_info": {
      "name": "python"
    }
  },
  "nbformat": 4,
  "nbformat_minor": 0
}